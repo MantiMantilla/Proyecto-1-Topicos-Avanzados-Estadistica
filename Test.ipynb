{
  "cells": [
    {
      "cell_type": "code",
      "metadata": {
        "tags": [],
        "cell_id": "00000-81b7e6ee-066a-45aa-9c5c-8e7dd391dfb7",
        "deepnote_to_be_reexecuted": false,
        "source_hash": "36497ddd",
        "execution_millis": 97,
        "execution_start": 1615161377322,
        "deepnote_cell_type": "code"
      },
      "source": "# Setup Package Requirements\n# install.packages(c(\"psych\", \"corrplot\", \"polycor\"))\nlibrary(psych)\nlibrary(corrplot)\nlibrary(polycor)\n\n# Set working environmen to file directory\n# setwd(\"./Proyecto-1-Topicos-Avanzados-Estadistica\")\n\n# Data Input\nencuestas <- read.csv2(\"./Proyecto-1-Topicos-Avanzados-Estadistica/encuestas.csv\", sep = \";\", header = T, encoding = \"latin1\", na.strings = \"\")\n#Remover filas sin dato alguno\nencuestas <- encuestas[rowSums(is.na(encuestas))!= ncol(encuestas), ]\n\nfaltantes <- lapply(encuestas, function(x) sum(is.na(x)))\nfaltantes <- as.data.frame(faltantes[faltantes != 0])\n\nlibrary(\"writexl\")\nwrite_xlsx(faltantes,\"excel.xlsx\")\n\ntable(encuestas$Troncal)\n\n#jpeg(file=\"saving_plot1.jpeg\")\n#hist(encuestas$X1_Satisf_General, breaks = c(0,1,2,3,4,5))\ndev.off()\n#table(encuestas$X1_Satisf_General)\n\ncomentarios <- c(\"X3.1_que_mejorar\")\ndatum <- c('ID','Fecha_noviembre','Hora_militar','Estacion','Troncal', 'Genero', 'Rechazos')\nsujeto <- c('X1_.4_veces_mes','X1_dia_por_Semana','X2_dias_por_Semana',\n'X3_dias_por_Semana','X4_dias_por_Semana','X5_dias_por_Semana','X6_dias_por_Semana','X7_dias_por_Semana',\n'X8.1_antiguedad_uso_meses','X8.2_hora_habitual_viaje','X8.5_duracion_viaje_mins','X9_medio_de_acceso','X10_ocupacion',\n'X11_grado_educativo','X12_rango_ingresos','X13_rango_edad','X14_estrato') \n\ncols_interesantes <- encuestas[! colnames(encuestas) %in% c(sujeto, datum, comentarios)]\n#head(cols_interesantes)\n\n#Función para la moda\nMode <- function(x, na.rm = FALSE) {\n  if(na.rm){\n    x = x[!is.na(x)]\n  }\n\n  ux <- unique(x)\n  return(ux[which.max(tabulate(match(x, ux)))])\n}\n# Imputacion de datos \ncols_interesantes <- data.frame(\n    sapply(\n        cols_interesantes,\n        function(x) ifelse(is.na(x),\n           Mode(x, na.rm = TRUE),\n            x)))\n\ncols_interesantes <- as.data.frame(lapply(cols_interesantes, ordered))\n\ngeneral <- c('X1_Satisf_General')\n\nequipamiento <- c('X3.2.6_zonas_de_descanso','X3.2.4_baños',\n                      'X3.2.2_cicloparqueaderos', 'X3.2.1_wifi', \n                      'X3.2.3_servicio_comida')\n                    \ninformacion <- c('X5.4_info_mapas','X5.7_senalizacion_estaciones', 'X2.10_informacion',\n                      'X5.15_info_aplicaciones', 'X4.5_amabilidad_taquillas' , 'X4.9_amabilidad_informacion', 'X2.7_personal', \n                        'X4.8_conocimiento_informacion_personal', 'X3.2.5_dispositivos_informacion', 'X5.8_tablero_frecuencias')\n\ninfraestructura <- c('X2.8_cobertura', 'X5.13_estado_buses','X5.5_respetan_fila_abordar',\n                     'X5.1_recarga_tarjeta','X5.2_ubicacion_estaciones', \n                     'X4.11_puertas_estaciones', 'X2.9_infraestructura', 'X4.12_calzadas_de_buses'\n                      )\n\ntiempo_sistema <- c('X5.12_tiempo_semaforos', 'X2.6_rapidez','X5.11_tiempo_parada', 'X5.14_trasbordos',\n                      'X4.4_agilidad_taquillas', 'X5.6_espera_de_bus_corta', 'X5.17_cantidad_paradas')\n\ncomodidad <- c( 'X2.2_comodidad' , 'X2.5_limpieza', 'X4.7_limpieza_en_estaciones',  'X5.10_sillas_comodas', \n                'X4.15_limpieza_en_buses','X5.3_espacio_estaciones', 'X4.10_piso_estaciones', 'X4.2_limpieza_cerca_estacion',\n                'X4.3_acceso_a_estacion', 'X4.13_conductores', 'X5.9_espacio_buses',  'X5.16_atencion_reclamos')\n\nseguridad <- c('X2.3_seguridad','X4.6_seguridad_en_estaciones','X4.14_seguridad_en_buses', \n                'X4.1_seguridad_cerca_estacion')\n\n\n\nprecio <- c('X2.1_precio_pasaje','X3_precio_alto' )\n\n",
      "outputs": [
        {
          "data": {
            "text/plain": "\n      10       26       80 Américas  Caracas      Eje    Norte      NQS \n      20       31       52       46       30       39       47       10 \n    Suba      Sur    Tunal     Usme \n      10       41       20       19 "
          },
          "metadata": {},
          "output_type": "display_data"
        },
        {
          "data": {
            "text/html": "<strong>null device:</strong> 1",
            "text/markdown": "**null device:** 1",
            "text/latex": "\\textbf{null device:} 1",
            "text/plain": "null device \n          1 "
          },
          "metadata": {},
          "output_type": "display_data"
        }
      ],
      "execution_count": null
    },
    {
      "cell_type": "code",
      "source": "######\ngrupo <- cols_interesantes[informacion]\n# Calculamos la matriz de correlaciones policorica \n# Clasificar columnas como ordinales\n\nhcor <- hetcor(grupo, std.err=FALSE)\n\n#corrplot::corrplot(hcor$correlations, method=\"number\")\n\n#heatmap(hcor$correlations)\n\npca_grupo <- princomp(  covmat = hcor$correlations )\n\nscores <- data.matrix(grupo) %*% pca_grupo$loadings[,1:2]\n\n#biplot(scores,pca_grupo$loadings[,1:2] )\n\n#plot(pca_grupo)\n#summary(pca_grupo)\n\nprint(pca_grupo[\"loadings\"], cutoff=0.3)\n\n\n",
      "metadata": {
        "tags": [],
        "cell_id": "00001-ec9318d7-5641-480b-b696-3bd9f6692a73",
        "deepnote_to_be_reexecuted": false,
        "source_hash": "9f676247",
        "execution_millis": 890,
        "execution_start": 1615163519390,
        "deepnote_cell_type": "code"
      },
      "outputs": [
        {
          "name": "stdout",
          "text": "$loadings\n\nLoadings:\n                                       Comp.1 Comp.2 Comp.3 Comp.4 Comp.5\nX5.4_info_mapas                         0.384  0.402                     \nX5.7_senalizacion_estaciones            0.383                            \nX2.10_informacion                       0.338  0.428                     \nX5.15_info_aplicaciones                        0.341        -0.536 -0.626\nX4.5_amabilidad_taquillas               0.309 -0.433                     \nX4.9_amabilidad_informacion             0.366 -0.342  0.344              \nX2.7_personal                           0.365        -0.320              \nX4.8_conocimiento_informacion_personal  0.348         0.426 -0.382       \nX3.2.5_dispositivos_informacion                      -0.698 -0.380  0.315\nX5.8_tablero_frecuencias                                     0.427 -0.587\n                                       Comp.6 Comp.7 Comp.8 Comp.9 Comp.10\nX5.4_info_mapas                                              0.738        \nX5.7_senalizacion_estaciones                  -0.312 -0.569 -0.338        \nX2.10_informacion                      -0.310         0.496 -0.519        \nX5.15_info_aplicaciones                              -0.311               \nX4.5_amabilidad_taquillas              -0.578 -0.339               -0.438 \nX4.9_amabilidad_informacion                   -0.324                0.670 \nX2.7_personal                                  0.706 -0.390               \nX4.8_conocimiento_informacion_personal  0.316                      -0.522 \nX3.2.5_dispositivos_informacion         0.328                             \nX5.8_tablero_frecuencias                0.508                             \n\n               Comp.1 Comp.2 Comp.3 Comp.4 Comp.5 Comp.6 Comp.7 Comp.8 Comp.9\nSS loadings       1.0    1.0    1.0    1.0    1.0    1.0    1.0    1.0    1.0\nProportion Var    0.1    0.1    0.1    0.1    0.1    0.1    0.1    0.1    0.1\nCumulative Var    0.1    0.2    0.3    0.4    0.5    0.6    0.7    0.8    0.9\n               Comp.10\nSS loadings        1.0\nProportion Var     0.1\nCumulative Var     1.0\n\n",
          "output_type": "stream"
        }
      ],
      "execution_count": null
    },
    {
      "cell_type": "code",
      "source": "",
      "metadata": {
        "tags": [],
        "cell_id": "00002-bebfcc02-7144-47d8-a427-6d432ea13e5e",
        "deepnote_cell_type": "code"
      },
      "outputs": [],
      "execution_count": null
    },
    {
      "cell_type": "markdown",
      "source": "<a style='text-decoration:none;line-height:16px;display:flex;color:#5B5B62;padding:10px;justify-content:end;' href='https://deepnote.com?utm_source=created-in-deepnote-cell&projectId=90c22cb4-3271-4024-9458-72997989e009' target=\"_blank\">\n<img style='display:inline;max-height:16px;margin:0px;margin-right:7.5px;' src='data:image/svg+xml;base64,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' > </img>\nCreated in <span style='font-weight:600;margin-left:4px;'>Deepnote</span></a>",
      "metadata": {
        "tags": [],
        "created_in_deepnote_cell": true,
        "deepnote_cell_type": "markdown"
      }
    }
  ],
  "nbformat": 4,
  "nbformat_minor": 2,
  "metadata": {
    "orig_nbformat": 2,
    "deepnote_notebook_id": "c2a048e6-1dff-40da-b418-12d737420b0b",
    "deepnote": {},
    "deepnote_execution_queue": []
  }
}